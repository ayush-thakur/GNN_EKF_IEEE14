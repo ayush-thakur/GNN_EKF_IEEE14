{
 "cells": [
  {
   "cell_type": "code",
   "execution_count": 2,
   "metadata": {},
   "outputs": [
    {
     "name": "stdout",
     "output_type": "stream",
     "text": [
      "\u001b[1m\n",
      "Processing the described model...\n",
      "---------------------------------------------------------------------------\n",
      "\u001b[0m\n"
     ]
    },
    {
     "name": "stdout",
     "output_type": "stream",
     "text": [
      "\u001b[1mCreating the GNN model...\n",
      "---------------------------------------------------------------------------\n",
      "\u001b[0m\n",
      "\u001b[91mRestoring saved model from ./CheckPoint/experiment_2024_04_13_17_47_10/ckpt/weights.05-0.000\n",
      "\u001b[0m\n",
      "\n",
      "\u001b[1mStarting to make the predictions...\n",
      "---------------------------------------------------------\n",
      "\u001b[0m\n",
      "Time elapsed:  9.715651512145996\n",
      "Average MSE over the test set:  3.272042485290306e-05\n",
      "MSE first example:  4.224436691558854e-05\n"
     ]
    },
    {
     "data": {
      "text/plain": [
       "<Figure size 640x480 with 0 Axes>"
      ]
     },
     "metadata": {},
     "output_type": "display_data"
    }
   ],
   "source": [
    "import ignnition\n",
    "import matplotlib.pyplot as plt\n",
    "from csv import reader\n",
    "import os\n",
    "import numpy as np\n",
    "from statistics import mean\n",
    "import time\n",
    "\n",
    "\n",
    "def predict():\n",
    "    model = ignnition.create_model(model_dir='./')\n",
    "\n",
    "    start = time.time()\n",
    "    predictions = model.predict()\n",
    "    end = time.time()\n",
    "    print(\"Time elapsed: \", end - start)\n",
    "\n",
    "    calculate_test_set_results(predictions)\n",
    "\n",
    "    example_id = 0\n",
    "    plot_results_for_one_test_example(predictions, example_id)\n",
    "\n",
    "\n",
    "def calculate_test_set_results(predictions_whole_test_set):\n",
    "    data_dir=os.path.abspath(\"./data_from_wls_se_solver\")\n",
    "    path=str(data_dir) + \"/Test_Estimate.csv\"\n",
    "    with open(path, 'r') as read_obj:\n",
    "        csv_reader = reader(read_obj)\n",
    "        estimate_rows = list(csv_reader)\n",
    "\n",
    "    if len(estimate_rows) != len(predictions_whole_test_set):\n",
    "        print(\"ERROR: len(estimate_rows) != len(predictions)\")\n",
    "\n",
    "    MSEs = []\n",
    "    for i in range(len(estimate_rows)):\n",
    "        true_values = [float(x) for x in estimate_rows[i]]\n",
    "        predictions = [float(x) for x in predictions_whole_test_set[i]]\n",
    "        difference_array = np. subtract(true_values, predictions)\n",
    "        squared_array = np. square(difference_array)\n",
    "        mse = squared_array. mean()\n",
    "        MSEs.append(mse)\n",
    "\n",
    "    print(\"Average MSE over the test set: \", mean(MSEs))\n",
    "\n",
    "\n",
    "def plot_results_for_one_test_example(predictions_whole_test_set, example_id):\n",
    "    data_dir=os.path.abspath(\"./data_from_wls_se_solver\")\n",
    "    path=str(data_dir) + \"/Test_Estimate.csv\"\n",
    "    with open(path, 'r') as read_obj:\n",
    "        csv_reader = reader(read_obj)\n",
    "        estimate_rows = list(csv_reader)\n",
    "\n",
    "    true_values = [float(x) for x in estimate_rows[example_id]]\n",
    "    predictions = predictions_whole_test_set[example_id]\n",
    "\n",
    "    difference_array = np. subtract(true_values, predictions)\n",
    "    squared_array = np. square(difference_array)\n",
    "    mse = squared_array. mean()\n",
    "    print('MSE first example: ', mse)\n",
    "\n",
    "    linewidth = 1\n",
    "    plt.plot(range(len(predictions)), predictions, color=\"red\", label=\"predictions\", linewidth=linewidth)\n",
    "    plt.plot(range(len(true_values)), true_values, color=\"blue\", label=\"true values\", linewidth=linewidth)\n",
    "    plt.legend()\n",
    "    plt.savefig(os.path.join('data/test', 'singleTestSampleSetRezPerNodeID.png'))\n",
    "    plt.clf()\n",
    "\n",
    "\n",
    "predict()\n"
   ]
  },
  {
   "cell_type": "code",
   "execution_count": null,
   "metadata": {},
   "outputs": [],
   "source": []
  }
 ],
 "metadata": {
  "kernelspec": {
   "display_name": "Python 3",
   "language": "python",
   "name": "python3"
  },
  "language_info": {
   "codemirror_mode": {
    "name": "ipython",
    "version": 3
   },
   "file_extension": ".py",
   "mimetype": "text/x-python",
   "name": "python",
   "nbconvert_exporter": "python",
   "pygments_lexer": "ipython3",
   "version": "3.8.19"
  }
 },
 "nbformat": 4,
 "nbformat_minor": 2
}
